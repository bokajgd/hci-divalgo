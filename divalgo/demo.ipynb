{
    "cells": [
        {
            "cell_type": "markdown",
            "metadata": {},
            "source": [
                "# DIVALGO demonstration"
            ]
        },
        {
            "cell_type": "markdown",
            "metadata": {},
            "source": [
                "This notebook contains a demostration of the DIVALGO tool"
            ]
        },
        {
            "cell_type": "code",
            "execution_count": 1,
            "metadata": {},
            "outputs": [],
            "source": [
                "import streamlit as st\n",
                "import importlib\n",
                "import divalgo_class\n",
                "importlib.reload(divalgo_class)\n",
                "import divalgo_class as div\n",
                "import os\n",
                "import sklearn.linear_model as lm\n",
                "import numpy as np\n",
                "from PIL import Image\n",
                "from sklearn import metrics"
            ]
        },
        {
            "cell_type": "markdown",
            "metadata": {},
            "source": [
                "## Actual data - dogs and wolfs"
            ]
        },
        {
            "cell_type": "code",
            "execution_count": 2,
            "metadata": {},
            "outputs": [],
            "source": [
                "# Load data\n",
                "dogs = sorted(os.listdir(os.path.join(\"..\", \"data\", \"dogs\")))\n",
                "wolves =  sorted(os.listdir(os.path.join(\"..\", \"data\", \"wolves\")))\n"
            ]
        },
        {
            "cell_type": "code",
            "execution_count": 3,
            "metadata": {},
            "outputs": [],
            "source": [
                "# Preprocessing\n",
                "img_size = 50\n",
                "dogs_images = []\n",
                "wolves_images = [] \n",
                "\n",
                "for i in dogs:\n",
                "    if os.path.isfile(os.path.join(\"..\",\"data\", \"dogs\", f\"{i}\")):\n",
                "        img = Image.open(os.path.join(\"..\",\"data\", \"dogs\", f\"{i}\")).convert('L')            \n",
                "        img = img.resize((img_size,img_size), Image.ANTIALIAS)\n",
                "        img = np.asarray(img)/255.0\n",
                "        dogs_images.append(img)    \n",
                "\n",
                "for i in wolves:\n",
                "    if os.path.isfile(os.path.join(\"..\",\"data\", \"wolves\", f\"{i}\")):\n",
                "        img = Image.open(os.path.join(\"..\",\"data\", \"wolves\", f\"{i}\")).convert('L')\n",
                "        img = img.resize((img_size,img_size), Image.ANTIALIAS)\n",
                "        img = np.asarray(img)/255.0     \n",
                "        wolves_images.append(img)   "
            ]
        },
        {
            "cell_type": "code",
            "execution_count": 4,
            "metadata": {},
            "outputs": [],
            "source": [
                "# # Manual train-test split (to track filenames)\n",
                "# X_train = np.asarray(dogs_images[0:800] + wolves_images[0:800])\n",
                "# X_train = X_train.reshape(X_train.shape[0], X_train.shape[1]*X_train.shape[2])\n",
                "# X_test = np.asarray(dogs_images[800:1000] + wolves_images[800:1000])\n",
                "# X_test = X_test.reshape(X_test.shape[0], X_test.shape[1]*X_test.shape[2])\n",
                "# y_train = np.asarray([\"dog\" for y in range(800)] + [\"wolf\" for y in range(800)])\n",
                "# y_train = y_train.reshape(y_train.shape[0],1)\n",
                "# y_test_ar = np.asarray([\"dog\" for y in range(200)] + [\"wolf\" for y in range(200)])\n",
                "# y_test = y_test_ar.reshape(y_test_ar.shape[0],1)\n",
                "\n",
                "# y_train, y_test = [k.T for k in [y_train, y_test]]\n",
                "# filenames_test = [os.path.join(\"..\", \"data\", \"dogs\", d) for d in dogs[800:1000]] + [os.path.join(\"..\", \"data\", \"wolves\", w) for w in wolves[800:1000]]"
            ]
        },
        {
            "cell_type": "code",
            "execution_count": 5,
            "metadata": {},
            "outputs": [],
            "source": [
                "# Manual train-test split (to track filenames)\n",
                "X_train = np.asarray(dogs_images[0:100] + wolves_images[0:100])\n",
                "X_train = X_train.reshape(X_train.shape[0], X_train.shape[1]*X_train.shape[2])\n",
                "X_test = np.asarray(dogs_images[800:825] + wolves_images[800:825])\n",
                "X_test = X_test.reshape(X_test.shape[0], X_test.shape[1]*X_test.shape[2])\n",
                "y_train = np.asarray([\"dog\" for y in range(100)] + [\"wolf\" for y in range(100)])\n",
                "y_train = y_train.reshape(y_train.shape[0],1)\n",
                "y_test_ar = np.asarray([\"dog\" for y in range(25)] + [\"wolf\" for y in range(25)])\n",
                "y_test = y_test_ar.reshape(y_test_ar.shape[0],1)\n",
                "\n",
                "y_train, y_test = [k.T for k in [y_train, y_test]]\n",
                "filenames_test = [os.path.join(\"..\", \"data\", \"dogs\", d) for d in dogs[800:825]] + [os.path.join(\"..\", \"data\", \"wolves\", w) for w in wolves[800:825]]"
            ]
        },
        {
            "cell_type": "code",
            "execution_count": 6,
            "metadata": {},
            "outputs": [],
            "source": [
                "# Train model\n",
                "model = lm.LogisticRegression(penalty='none', tol=0.1, max_iter=500).fit(X_train, y_train[0])"
            ]
        },
        {
            "cell_type": "code",
            "execution_count": 7,
            "metadata": {},
            "outputs": [],
            "source": [
                "# y_pred = model.predict(X_test)\n",
                "dog_wolf = div.Evaluate((X_test, y_test[0], filenames_test), model)"
            ]
        },
        {
            "cell_type": "code",
            "execution_count": 8,
            "metadata": {},
            "outputs": [],
            "source": [
                "#dog_wolf.explore_embeddings()"
            ]
        },
        {
            "cell_type": "code",
            "execution_count": 7,
            "metadata": {},
            "outputs": [
                {
                    "data": {
                        "text/html": [
                            "        <script type=\"text/javascript\">\n",
                            "        window.PlotlyConfig = {MathJaxConfig: 'local'};\n",
                            "        if (window.MathJax) {MathJax.Hub.Config({SVG: {font: \"STIX-Web\"}});}\n",
                            "        if (typeof require !== 'undefined') {\n",
                            "        require.undef(\"plotly\");\n",
                            "        requirejs.config({\n",
                            "            paths: {\n",
                            "                'plotly': ['https://cdn.plot.ly/plotly-2.9.0.min']\n",
                            "            }\n",
                            "        });\n",
                            "        require(['plotly'], function(Plotly) {\n",
                            "            window._Plotly = Plotly;\n",
                            "        });\n",
                            "        }\n",
                            "        </script>\n",
                            "        "
                        ]
                    },
                    "metadata": {},
                    "output_type": "display_data"
                },
                {
                    "data": {
                        "text/html": [
                            "<div>                            <div id=\"754c3879-71af-49b7-8deb-166204f90f19\" class=\"plotly-graph-div\" style=\"height:500px; width:700px;\"></div>            <script type=\"text/javascript\">                require([\"plotly\"], function(Plotly) {                    window.PLOTLYENV=window.PLOTLYENV || {};                                    if (document.getElementById(\"754c3879-71af-49b7-8deb-166204f90f19\")) {                    Plotly.newPlot(                        \"754c3879-71af-49b7-8deb-166204f90f19\",                        [{\"hovertemplate\":\"False Positive Rate=%{x}<br>True Positive Rate=%{y}<extra></extra>\",\"legendgroup\":\"\",\"line\":{\"color\":\"#FECEA8\"},\"marker\":{\"symbol\":\"circle\"},\"mode\":\"lines\",\"name\":\"\",\"orientation\":\"v\",\"showlegend\":false,\"stackgroup\":\"1\",\"x\":[0.0,0.155,0.155,0.175,0.175,0.185,0.19,0.19,0.195,0.195,0.2,0.2,0.21,0.21,0.215,0.215,0.24,0.24,0.245,0.245,0.25,0.25,0.255,0.255,0.27,0.27,0.275,0.275,0.28,0.28,0.285,0.285,0.29,0.29,0.3,0.3,0.31,0.31,0.33,0.33,0.335,0.335,0.34,0.34,0.345,0.345,0.35,0.35,0.36,0.36,0.365,0.365,0.375,0.375,0.405,0.405,0.415,0.415,0.425,0.425,0.445,0.445,0.46,0.46,0.475,0.475,0.48,0.48,0.485,0.485,0.49,0.49,0.5,0.5,0.505,0.505,0.52,0.52,0.55,0.55,0.555,0.555,0.565,0.565,0.57,0.57,0.595,0.595,0.6,0.6,0.605,0.605,0.615,0.615,0.63,0.63,0.635,0.635,0.67,0.67,0.675,0.675,0.68,0.68,0.7,0.7,0.71,0.71,0.725,0.725,0.73,0.73,0.735,0.735,0.775,0.775,0.78,0.78,0.79,0.79,0.8,0.8,0.815,0.815,0.835,0.835,0.845,0.845,0.855,0.855,0.86,0.86,0.875,0.875,0.885,0.885,0.895,0.895,0.905,0.905,0.945,0.945,0.955,0.955,0.975,0.975,0.995,0.995,1.0],\"xaxis\":\"x\",\"y\":[0.0,0.27,0.28,0.28,0.29,0.295,0.295,0.3,0.3,0.305,0.305,0.31,0.31,0.35,0.35,0.36,0.36,0.375,0.375,0.38,0.38,0.39,0.39,0.395,0.395,0.405,0.405,0.41,0.41,0.42,0.42,0.425,0.425,0.43,0.43,0.44,0.44,0.455,0.455,0.465,0.465,0.47,0.47,0.48,0.48,0.49,0.49,0.5,0.5,0.505,0.505,0.515,0.515,0.52,0.52,0.525,0.525,0.545,0.545,0.56,0.56,0.565,0.565,0.57,0.57,0.575,0.575,0.58,0.58,0.59,0.59,0.605,0.605,0.615,0.615,0.63,0.63,0.64,0.64,0.65,0.65,0.67,0.67,0.675,0.675,0.7,0.7,0.71,0.71,0.72,0.72,0.725,0.725,0.73,0.73,0.735,0.735,0.74,0.74,0.755,0.755,0.785,0.785,0.795,0.795,0.8,0.8,0.805,0.805,0.815,0.815,0.82,0.82,0.83,0.83,0.835,0.835,0.85,0.85,0.855,0.855,0.86,0.86,0.865,0.865,0.875,0.875,0.88,0.88,0.9,0.9,0.91,0.91,0.935,0.935,0.955,0.955,0.96,0.96,0.97,0.97,0.975,0.975,0.985,0.985,0.99,0.99,1.0,1.0],\"yaxis\":\"y\",\"type\":\"scatter\"}],                        {\"template\":{\"data\":{\"bar\":[{\"error_x\":{\"color\":\"#2a3f5f\"},\"error_y\":{\"color\":\"#2a3f5f\"},\"marker\":{\"line\":{\"color\":\"#E5ECF6\",\"width\":0.5},\"pattern\":{\"fillmode\":\"overlay\",\"size\":10,\"solidity\":0.2}},\"type\":\"bar\"}],\"barpolar\":[{\"marker\":{\"line\":{\"color\":\"#E5ECF6\",\"width\":0.5},\"pattern\":{\"fillmode\":\"overlay\",\"size\":10,\"solidity\":0.2}},\"type\":\"barpolar\"}],\"carpet\":[{\"aaxis\":{\"endlinecolor\":\"#2a3f5f\",\"gridcolor\":\"white\",\"linecolor\":\"white\",\"minorgridcolor\":\"white\",\"startlinecolor\":\"#2a3f5f\"},\"baxis\":{\"endlinecolor\":\"#2a3f5f\",\"gridcolor\":\"white\",\"linecolor\":\"white\",\"minorgridcolor\":\"white\",\"startlinecolor\":\"#2a3f5f\"},\"type\":\"carpet\"}],\"choropleth\":[{\"colorbar\":{\"outlinewidth\":0,\"ticks\":\"\"},\"type\":\"choropleth\"}],\"contour\":[{\"colorbar\":{\"outlinewidth\":0,\"ticks\":\"\"},\"colorscale\":[[0.0,\"#0d0887\"],[0.1111111111111111,\"#46039f\"],[0.2222222222222222,\"#7201a8\"],[0.3333333333333333,\"#9c179e\"],[0.4444444444444444,\"#bd3786\"],[0.5555555555555556,\"#d8576b\"],[0.6666666666666666,\"#ed7953\"],[0.7777777777777778,\"#fb9f3a\"],[0.8888888888888888,\"#fdca26\"],[1.0,\"#f0f921\"]],\"type\":\"contour\"}],\"contourcarpet\":[{\"colorbar\":{\"outlinewidth\":0,\"ticks\":\"\"},\"type\":\"contourcarpet\"}],\"heatmap\":[{\"colorbar\":{\"outlinewidth\":0,\"ticks\":\"\"},\"colorscale\":[[0.0,\"#0d0887\"],[0.1111111111111111,\"#46039f\"],[0.2222222222222222,\"#7201a8\"],[0.3333333333333333,\"#9c179e\"],[0.4444444444444444,\"#bd3786\"],[0.5555555555555556,\"#d8576b\"],[0.6666666666666666,\"#ed7953\"],[0.7777777777777778,\"#fb9f3a\"],[0.8888888888888888,\"#fdca26\"],[1.0,\"#f0f921\"]],\"type\":\"heatmap\"}],\"heatmapgl\":[{\"colorbar\":{\"outlinewidth\":0,\"ticks\":\"\"},\"colorscale\":[[0.0,\"#0d0887\"],[0.1111111111111111,\"#46039f\"],[0.2222222222222222,\"#7201a8\"],[0.3333333333333333,\"#9c179e\"],[0.4444444444444444,\"#bd3786\"],[0.5555555555555556,\"#d8576b\"],[0.6666666666666666,\"#ed7953\"],[0.7777777777777778,\"#fb9f3a\"],[0.8888888888888888,\"#fdca26\"],[1.0,\"#f0f921\"]],\"type\":\"heatmapgl\"}],\"histogram\":[{\"marker\":{\"pattern\":{\"fillmode\":\"overlay\",\"size\":10,\"solidity\":0.2}},\"type\":\"histogram\"}],\"histogram2d\":[{\"colorbar\":{\"outlinewidth\":0,\"ticks\":\"\"},\"colorscale\":[[0.0,\"#0d0887\"],[0.1111111111111111,\"#46039f\"],[0.2222222222222222,\"#7201a8\"],[0.3333333333333333,\"#9c179e\"],[0.4444444444444444,\"#bd3786\"],[0.5555555555555556,\"#d8576b\"],[0.6666666666666666,\"#ed7953\"],[0.7777777777777778,\"#fb9f3a\"],[0.8888888888888888,\"#fdca26\"],[1.0,\"#f0f921\"]],\"type\":\"histogram2d\"}],\"histogram2dcontour\":[{\"colorbar\":{\"outlinewidth\":0,\"ticks\":\"\"},\"colorscale\":[[0.0,\"#0d0887\"],[0.1111111111111111,\"#46039f\"],[0.2222222222222222,\"#7201a8\"],[0.3333333333333333,\"#9c179e\"],[0.4444444444444444,\"#bd3786\"],[0.5555555555555556,\"#d8576b\"],[0.6666666666666666,\"#ed7953\"],[0.7777777777777778,\"#fb9f3a\"],[0.8888888888888888,\"#fdca26\"],[1.0,\"#f0f921\"]],\"type\":\"histogram2dcontour\"}],\"mesh3d\":[{\"colorbar\":{\"outlinewidth\":0,\"ticks\":\"\"},\"type\":\"mesh3d\"}],\"parcoords\":[{\"line\":{\"colorbar\":{\"outlinewidth\":0,\"ticks\":\"\"}},\"type\":\"parcoords\"}],\"pie\":[{\"automargin\":true,\"type\":\"pie\"}],\"scatter\":[{\"marker\":{\"colorbar\":{\"outlinewidth\":0,\"ticks\":\"\"}},\"type\":\"scatter\"}],\"scatter3d\":[{\"line\":{\"colorbar\":{\"outlinewidth\":0,\"ticks\":\"\"}},\"marker\":{\"colorbar\":{\"outlinewidth\":0,\"ticks\":\"\"}},\"type\":\"scatter3d\"}],\"scattercarpet\":[{\"marker\":{\"colorbar\":{\"outlinewidth\":0,\"ticks\":\"\"}},\"type\":\"scattercarpet\"}],\"scattergeo\":[{\"marker\":{\"colorbar\":{\"outlinewidth\":0,\"ticks\":\"\"}},\"type\":\"scattergeo\"}],\"scattergl\":[{\"marker\":{\"colorbar\":{\"outlinewidth\":0,\"ticks\":\"\"}},\"type\":\"scattergl\"}],\"scattermapbox\":[{\"marker\":{\"colorbar\":{\"outlinewidth\":0,\"ticks\":\"\"}},\"type\":\"scattermapbox\"}],\"scatterpolar\":[{\"marker\":{\"colorbar\":{\"outlinewidth\":0,\"ticks\":\"\"}},\"type\":\"scatterpolar\"}],\"scatterpolargl\":[{\"marker\":{\"colorbar\":{\"outlinewidth\":0,\"ticks\":\"\"}},\"type\":\"scatterpolargl\"}],\"scatterternary\":[{\"marker\":{\"colorbar\":{\"outlinewidth\":0,\"ticks\":\"\"}},\"type\":\"scatterternary\"}],\"surface\":[{\"colorbar\":{\"outlinewidth\":0,\"ticks\":\"\"},\"colorscale\":[[0.0,\"#0d0887\"],[0.1111111111111111,\"#46039f\"],[0.2222222222222222,\"#7201a8\"],[0.3333333333333333,\"#9c179e\"],[0.4444444444444444,\"#bd3786\"],[0.5555555555555556,\"#d8576b\"],[0.6666666666666666,\"#ed7953\"],[0.7777777777777778,\"#fb9f3a\"],[0.8888888888888888,\"#fdca26\"],[1.0,\"#f0f921\"]],\"type\":\"surface\"}],\"table\":[{\"cells\":{\"fill\":{\"color\":\"#EBF0F8\"},\"line\":{\"color\":\"white\"}},\"header\":{\"fill\":{\"color\":\"#C8D4E3\"},\"line\":{\"color\":\"white\"}},\"type\":\"table\"}]},\"layout\":{\"annotationdefaults\":{\"arrowcolor\":\"#2a3f5f\",\"arrowhead\":0,\"arrowwidth\":1},\"autotypenumbers\":\"strict\",\"coloraxis\":{\"colorbar\":{\"outlinewidth\":0,\"ticks\":\"\"}},\"colorscale\":{\"diverging\":[[0,\"#8e0152\"],[0.1,\"#c51b7d\"],[0.2,\"#de77ae\"],[0.3,\"#f1b6da\"],[0.4,\"#fde0ef\"],[0.5,\"#f7f7f7\"],[0.6,\"#e6f5d0\"],[0.7,\"#b8e186\"],[0.8,\"#7fbc41\"],[0.9,\"#4d9221\"],[1,\"#276419\"]],\"sequential\":[[0.0,\"#0d0887\"],[0.1111111111111111,\"#46039f\"],[0.2222222222222222,\"#7201a8\"],[0.3333333333333333,\"#9c179e\"],[0.4444444444444444,\"#bd3786\"],[0.5555555555555556,\"#d8576b\"],[0.6666666666666666,\"#ed7953\"],[0.7777777777777778,\"#fb9f3a\"],[0.8888888888888888,\"#fdca26\"],[1.0,\"#f0f921\"]],\"sequentialminus\":[[0.0,\"#0d0887\"],[0.1111111111111111,\"#46039f\"],[0.2222222222222222,\"#7201a8\"],[0.3333333333333333,\"#9c179e\"],[0.4444444444444444,\"#bd3786\"],[0.5555555555555556,\"#d8576b\"],[0.6666666666666666,\"#ed7953\"],[0.7777777777777778,\"#fb9f3a\"],[0.8888888888888888,\"#fdca26\"],[1.0,\"#f0f921\"]]},\"colorway\":[\"#636efa\",\"#EF553B\",\"#00cc96\",\"#ab63fa\",\"#FFA15A\",\"#19d3f3\",\"#FF6692\",\"#B6E880\",\"#FF97FF\",\"#FECB52\"],\"font\":{\"color\":\"#2a3f5f\"},\"geo\":{\"bgcolor\":\"white\",\"lakecolor\":\"white\",\"landcolor\":\"#E5ECF6\",\"showlakes\":true,\"showland\":true,\"subunitcolor\":\"white\"},\"hoverlabel\":{\"align\":\"left\"},\"hovermode\":\"closest\",\"mapbox\":{\"style\":\"light\"},\"paper_bgcolor\":\"white\",\"plot_bgcolor\":\"#E5ECF6\",\"polar\":{\"angularaxis\":{\"gridcolor\":\"white\",\"linecolor\":\"white\",\"ticks\":\"\"},\"bgcolor\":\"#E5ECF6\",\"radialaxis\":{\"gridcolor\":\"white\",\"linecolor\":\"white\",\"ticks\":\"\"}},\"scene\":{\"xaxis\":{\"backgroundcolor\":\"#E5ECF6\",\"gridcolor\":\"white\",\"gridwidth\":2,\"linecolor\":\"white\",\"showbackground\":true,\"ticks\":\"\",\"zerolinecolor\":\"white\"},\"yaxis\":{\"backgroundcolor\":\"#E5ECF6\",\"gridcolor\":\"white\",\"gridwidth\":2,\"linecolor\":\"white\",\"showbackground\":true,\"ticks\":\"\",\"zerolinecolor\":\"white\"},\"zaxis\":{\"backgroundcolor\":\"#E5ECF6\",\"gridcolor\":\"white\",\"gridwidth\":2,\"linecolor\":\"white\",\"showbackground\":true,\"ticks\":\"\",\"zerolinecolor\":\"white\"}},\"shapedefaults\":{\"line\":{\"color\":\"#2a3f5f\"}},\"ternary\":{\"aaxis\":{\"gridcolor\":\"white\",\"linecolor\":\"white\",\"ticks\":\"\"},\"baxis\":{\"gridcolor\":\"white\",\"linecolor\":\"white\",\"ticks\":\"\"},\"bgcolor\":\"#E5ECF6\",\"caxis\":{\"gridcolor\":\"white\",\"linecolor\":\"white\",\"ticks\":\"\"}},\"title\":{\"x\":0.05},\"xaxis\":{\"automargin\":true,\"gridcolor\":\"white\",\"linecolor\":\"white\",\"ticks\":\"\",\"title\":{\"standoff\":15},\"zerolinecolor\":\"white\",\"zerolinewidth\":2},\"yaxis\":{\"automargin\":true,\"gridcolor\":\"white\",\"linecolor\":\"white\",\"ticks\":\"\",\"title\":{\"standoff\":15},\"zerolinecolor\":\"white\",\"zerolinewidth\":2}}},\"xaxis\":{\"anchor\":\"y\",\"domain\":[0.0,1.0],\"title\":{\"text\":\"False Positive Rate\"},\"constrain\":\"domain\",\"showgrid\":false},\"yaxis\":{\"anchor\":\"x\",\"domain\":[0.0,1.0],\"title\":{\"text\":\"True Positive Rate\"},\"scaleanchor\":\"x\",\"scaleratio\":1,\"showgrid\":false},\"legend\":{\"tracegroupgap\":0},\"margin\":{\"t\":60},\"height\":500,\"width\":700,\"shapes\":[{\"line\":{\"color\":\"#1D2427\",\"dash\":\"dash\"},\"type\":\"line\",\"x0\":0,\"x1\":1,\"y0\":0,\"y1\":1}],\"annotations\":[{\"showarrow\":false,\"text\":\"AUC=0.5883\",\"x\":0.85,\"y\":0.1,\"font\":{\"color\":\"#8B959A\"},\"bgcolor\":\"#1D2427\"}],\"font\":{\"color\":\"#8B959A\"},\"title\":{\"font\":{\"color\":\"#8B959A\"}},\"plot_bgcolor\":\"rgba(0, 0, 0, 0)\",\"paper_bgcolor\":\"rgba(0, 0, 0, 0)\"},                        {\"responsive\": true}                    ).then(function(){\n",
                            "                            \n",
                            "var gd = document.getElementById('754c3879-71af-49b7-8deb-166204f90f19');\n",
                            "var x = new MutationObserver(function (mutations, observer) {{\n",
                            "        var display = window.getComputedStyle(gd).display;\n",
                            "        if (!display || display === 'none') {{\n",
                            "            console.log([gd, 'removed!']);\n",
                            "            Plotly.purge(gd);\n",
                            "            observer.disconnect();\n",
                            "        }}\n",
                            "}});\n",
                            "\n",
                            "// Listen for the removal of the full notebook cells\n",
                            "var notebookContainer = gd.closest('#notebook-container');\n",
                            "if (notebookContainer) {{\n",
                            "    x.observe(notebookContainer, {childList: true});\n",
                            "}}\n",
                            "\n",
                            "// Listen for the clearing of the current output cell\n",
                            "var outputEl = gd.closest('.output');\n",
                            "if (outputEl) {{\n",
                            "    x.observe(outputEl, {childList: true});\n",
                            "}}\n",
                            "\n",
                            "                        })                };                });            </script>        </div>"
                        ]
                    },
                    "metadata": {},
                    "output_type": "display_data"
                }
            ],
            "source": [
                "# import plotly.io as pio\n",
                "# pio.renderers.default = \"notebook_connected\"\n",
                "# dog_wolf.plot_roc_curve()"
            ]
        },
        {
            "cell_type": "code",
            "execution_count": 8,
            "metadata": {},
            "outputs": [
                {
                    "name": "stdout",
                    "output_type": "stream",
                    "text": [
                        "\n",
                        "  You can now view your Streamlit app in your browser.\n",
                        "\n",
                        "  Local URL: http://localhost:8501\n",
                        "  Network URL: http://192.168.8.148:8501\n",
                        "\n"
                    ]
                },
                {
                    "name": "stderr",
                    "output_type": "stream",
                    "text": [
                        "2022-06-08 12:40:02.404 Uncaught app exception\n",
                        "Traceback (most recent call last):\n",
                        "  File \"/Users/au617011/Documents/Semester8/HCI/hcienv/lib/python3.10/site-packages/streamlit/scriptrunner/script_runner.py\", line 554, in _run_script\n",
                        "    exec(code, module.__dict__)\n",
                        "  File \"pages/01_☌ model performance.py\", line 95, in <module>\n",
                        "    df = pd.read_csv(os.path.join(\"tmp\", \"data.csv\"))\n",
                        "  File \"/Users/au617011/Documents/Semester8/HCI/hcienv/lib/python3.10/site-packages/pandas/util/_decorators.py\", line 311, in wrapper\n",
                        "    return func(*args, **kwargs)\n",
                        "  File \"/Users/au617011/Documents/Semester8/HCI/hcienv/lib/python3.10/site-packages/pandas/io/parsers/readers.py\", line 680, in read_csv\n",
                        "    return _read(filepath_or_buffer, kwds)\n",
                        "  File \"/Users/au617011/Documents/Semester8/HCI/hcienv/lib/python3.10/site-packages/pandas/io/parsers/readers.py\", line 575, in _read\n",
                        "    parser = TextFileReader(filepath_or_buffer, **kwds)\n",
                        "  File \"/Users/au617011/Documents/Semester8/HCI/hcienv/lib/python3.10/site-packages/pandas/io/parsers/readers.py\", line 933, in __init__\n",
                        "    self._engine = self._make_engine(f, self.engine)\n",
                        "  File \"/Users/au617011/Documents/Semester8/HCI/hcienv/lib/python3.10/site-packages/pandas/io/parsers/readers.py\", line 1217, in _make_engine\n",
                        "    self.handles = get_handle(  # type: ignore[call-overload]\n",
                        "  File \"/Users/au617011/Documents/Semester8/HCI/hcienv/lib/python3.10/site-packages/pandas/io/common.py\", line 789, in get_handle\n",
                        "    handle = open(\n",
                        "FileNotFoundError: [Errno 2] No such file or directory: 'tmp/data.csv'\n"
                    ]
                },
                {
                    "name": "stdout",
                    "output_type": "stream",
                    "text": [
                        "  Stopping...\n"
                    ]
                }
            ],
            "source": [
                "dog_wolf.open_visualization()"
            ]
        },
        {
            "cell_type": "markdown",
            "metadata": {},
            "source": [
                "Training: \n",
                "\n",
                "Train - epoch - loss over time, learning curves (Frida)\n",
                "\n",
                "Coefficient heatmap (Jakob)\n",
                "\n",
                "Visualize images (correct/wrong predictions) - Stine "
            ]
        }
    ],
    "metadata": {
        "interpreter": {
            "hash": "c473d9e48bcb9de80f1883cf7a099458c7db654fd76da8be0e5daf0bb97e2114"
        },
        "kernelspec": {
            "display_name": "Python 3.10.4 ('exam_hci')",
            "language": "python",
            "name": "python3"
        },
        "language_info": {
            "codemirror_mode": {
                "name": "ipython",
                "version": 3
            },
            "file_extension": ".py",
            "mimetype": "text/x-python",
            "name": "python",
            "nbconvert_exporter": "python",
            "pygments_lexer": "ipython3",
            "version": "3.10.4"
        },
        "orig_nbformat": 4
    },
    "nbformat": 4,
    "nbformat_minor": 2
}