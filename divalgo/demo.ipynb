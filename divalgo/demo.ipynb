{
    "cells": [
        {
            "cell_type": "markdown",
            "metadata": {},
            "source": [
                "# DIVALGO demonstration"
            ]
        },
        {
            "cell_type": "markdown",
            "metadata": {},
            "source": [
                "This notebook contains a demostration of the DIVALGO tool"
            ]
        },
        {
            "cell_type": "code",
            "execution_count": 1,
            "metadata": {},
            "outputs": [
                {
                    "name": "stderr",
                    "output_type": "stream",
                    "text": [
                        "2022-06-07 21:37:27.735 INFO    numexpr.utils: NumExpr defaulting to 8 threads.\n"
                    ]
                },
                {
                    "ename": "ModuleNotFoundError",
                    "evalue": "No module named 'utils'",
                    "output_type": "error",
                    "traceback": [
                        "\u001b[0;31m---------------------------------------------------------------------------\u001b[0m",
                        "\u001b[0;31mModuleNotFoundError\u001b[0m                       Traceback (most recent call last)",
                        "\u001b[1;32m/Users/jakobgrohn/Desktop/Cognitive_Science/Cognitive Science 8th Semester/Human Computer Interaction/Exam/hci-divalgo/demo.ipynb Cell 3'\u001b[0m in \u001b[0;36m<cell line: 3>\u001b[0;34m()\u001b[0m\n\u001b[1;32m      <a href='vscode-notebook-cell:/Users/jakobgrohn/Desktop/Cognitive_Science/Cognitive%20Science%208th%20Semester/Human%20Computer%20Interaction/Exam/hci-divalgo/demo.ipynb#ch0000002?line=0'>1</a>\u001b[0m \u001b[39mimport\u001b[39;00m \u001b[39mstreamlit\u001b[39;00m \u001b[39mas\u001b[39;00m \u001b[39mst\u001b[39;00m\n\u001b[1;32m      <a href='vscode-notebook-cell:/Users/jakobgrohn/Desktop/Cognitive_Science/Cognitive%20Science%208th%20Semester/Human%20Computer%20Interaction/Exam/hci-divalgo/demo.ipynb#ch0000002?line=1'>2</a>\u001b[0m \u001b[39mimport\u001b[39;00m \u001b[39mimportlib\u001b[39;00m\n\u001b[0;32m----> <a href='vscode-notebook-cell:/Users/jakobgrohn/Desktop/Cognitive_Science/Cognitive%20Science%208th%20Semester/Human%20Computer%20Interaction/Exam/hci-divalgo/demo.ipynb#ch0000002?line=2'>3</a>\u001b[0m \u001b[39mimport\u001b[39;00m \u001b[39mdivalgo\u001b[39;00m\u001b[39m.\u001b[39;00m\u001b[39mdivalgo_class\u001b[39;00m\n\u001b[1;32m      <a href='vscode-notebook-cell:/Users/jakobgrohn/Desktop/Cognitive_Science/Cognitive%20Science%208th%20Semester/Human%20Computer%20Interaction/Exam/hci-divalgo/demo.ipynb#ch0000002?line=3'>4</a>\u001b[0m importlib\u001b[39m.\u001b[39mreload(divalgo\u001b[39m.\u001b[39mdivalgo_class)\n\u001b[1;32m      <a href='vscode-notebook-cell:/Users/jakobgrohn/Desktop/Cognitive_Science/Cognitive%20Science%208th%20Semester/Human%20Computer%20Interaction/Exam/hci-divalgo/demo.ipynb#ch0000002?line=4'>5</a>\u001b[0m \u001b[39mimport\u001b[39;00m \u001b[39mdivalgo\u001b[39;00m\u001b[39m.\u001b[39;00m\u001b[39mdivalgo_class\u001b[39;00m \u001b[39mas\u001b[39;00m \u001b[39mdiv\u001b[39;00m\n",
                        "File \u001b[0;32m~/Desktop/Cognitive_Science/Cognitive Science 8th Semester/Human Computer Interaction/Exam/hci-divalgo/divalgo/divalgo_class.py:13\u001b[0m, in \u001b[0;36m<module>\u001b[0;34m\u001b[0m\n\u001b[1;32m     <a href='file:///Users/jakobgrohn/Desktop/Cognitive_Science/Cognitive%20Science%208th%20Semester/Human%20Computer%20Interaction/Exam/hci-divalgo/divalgo/divalgo_class.py?line=9'>10</a>\u001b[0m \u001b[39mfrom\u001b[39;00m \u001b[39mbokeh\u001b[39;00m\u001b[39m.\u001b[39;00m\u001b[39mplotting\u001b[39;00m \u001b[39mimport\u001b[39;00m figure, show, output_notebook\n\u001b[1;32m     <a href='file:///Users/jakobgrohn/Desktop/Cognitive_Science/Cognitive%20Science%208th%20Semester/Human%20Computer%20Interaction/Exam/hci-divalgo/divalgo/divalgo_class.py?line=10'>11</a>\u001b[0m \u001b[39mfrom\u001b[39;00m \u001b[39mbokeh\u001b[39;00m\u001b[39m.\u001b[39;00m\u001b[39mmodels\u001b[39;00m \u001b[39mimport\u001b[39;00m HoverTool, ColumnDataSource, CategoricalColorMapper, CustomJS, Circle\n\u001b[0;32m---> <a href='file:///Users/jakobgrohn/Desktop/Cognitive_Science/Cognitive%20Science%208th%20Semester/Human%20Computer%20Interaction/Exam/hci-divalgo/divalgo/divalgo_class.py?line=12'>13</a>\u001b[0m \u001b[39mfrom\u001b[39;00m \u001b[39mutils\u001b[39;00m \u001b[39mimport\u001b[39;00m get_embeddings, prob_barplot, np_image_to_base64, get_embedding_df\n\u001b[1;32m     <a href='file:///Users/jakobgrohn/Desktop/Cognitive_Science/Cognitive%20Science%208th%20Semester/Human%20Computer%20Interaction/Exam/hci-divalgo/divalgo/divalgo_class.py?line=14'>15</a>\u001b[0m \u001b[39mdef\u001b[39;00m \u001b[39maccuracy_chart_type\u001b[39m(confusion:\u001b[39mtuple\u001b[39m, \n\u001b[1;32m     <a href='file:///Users/jakobgrohn/Desktop/Cognitive_Science/Cognitive%20Science%208th%20Semester/Human%20Computer%20Interaction/Exam/hci-divalgo/divalgo/divalgo_class.py?line=15'>16</a>\u001b[0m                         labels \u001b[39m=\u001b[39m[\u001b[39m\"\u001b[39m\u001b[39mTrue positive\u001b[39m\u001b[39m\"\u001b[39m, \u001b[39m\"\u001b[39m\u001b[39mTrue negative\u001b[39m\u001b[39m\"\u001b[39m, \u001b[39m\"\u001b[39m\u001b[39mFalse positive\u001b[39m\u001b[39m\"\u001b[39m, \u001b[39m\"\u001b[39m\u001b[39mFalse negative\u001b[39m\u001b[39m\"\u001b[39m], \n\u001b[1;32m     <a href='file:///Users/jakobgrohn/Desktop/Cognitive_Science/Cognitive%20Science%208th%20Semester/Human%20Computer%20Interaction/Exam/hci-divalgo/divalgo/divalgo_class.py?line=16'>17</a>\u001b[0m                         colors\u001b[39m=\u001b[39m\u001b[39mNone\u001b[39;00m):\n\u001b[1;32m     <a href='file:///Users/jakobgrohn/Desktop/Cognitive_Science/Cognitive%20Science%208th%20Semester/Human%20Computer%20Interaction/Exam/hci-divalgo/divalgo/divalgo_class.py?line=17'>18</a>\u001b[0m     \u001b[39m\"\"\"Function creating pie chart of accuracy based on prediction type (TP, TN, FP, FN)\u001b[39;00m\n\u001b[1;32m     <a href='file:///Users/jakobgrohn/Desktop/Cognitive_Science/Cognitive%20Science%208th%20Semester/Human%20Computer%20Interaction/Exam/hci-divalgo/divalgo/divalgo_class.py?line=18'>19</a>\u001b[0m \n\u001b[1;32m     <a href='file:///Users/jakobgrohn/Desktop/Cognitive_Science/Cognitive%20Science%208th%20Semester/Human%20Computer%20Interaction/Exam/hci-divalgo/divalgo/divalgo_class.py?line=19'>20</a>\u001b[0m \u001b[39m    Args:\u001b[39;00m\n\u001b[0;32m   (...)\u001b[0m\n\u001b[1;32m     <a href='file:///Users/jakobgrohn/Desktop/Cognitive_Science/Cognitive%20Science%208th%20Semester/Human%20Computer%20Interaction/Exam/hci-divalgo/divalgo/divalgo_class.py?line=25'>26</a>\u001b[0m \u001b[39m        fig: the plotly figure\u001b[39;00m\n\u001b[1;32m     <a href='file:///Users/jakobgrohn/Desktop/Cognitive_Science/Cognitive%20Science%208th%20Semester/Human%20Computer%20Interaction/Exam/hci-divalgo/divalgo/divalgo_class.py?line=26'>27</a>\u001b[0m \u001b[39m    \"\"\"\u001b[39;00m                        \n",
                        "\u001b[0;31mModuleNotFoundError\u001b[0m: No module named 'utils'"
                    ]
                }
            ],
            "source": [
                "import streamlit as st\n",
                "import importlib\n",
                "import divalgo.divalgo_class\n",
                "importlib.reload(divalgo.divalgo_class)\n",
                "import divalgo.divalgo_class as div\n",
                "import os\n",
                "import sklearn.linear_model as lm\n",
                "import numpy as np\n",
                "from PIL import Image\n",
                "from sklearn import metrics"
            ]
        },
        {
            "cell_type": "markdown",
            "metadata": {},
            "source": [
                "## Actual data - dogs and wolfs"
            ]
        },
        {
            "cell_type": "code",
            "execution_count": 15,
            "metadata": {},
            "outputs": [],
            "source": [
                "# Load data\n",
                "dogs = sorted(os.listdir(os.path.join(\"data\", \"dogs\")))\n",
                "wolves =  sorted(os.listdir(os.path.join( \"data\", \"wolves\")))\n"
            ]
        },
        {
            "cell_type": "code",
            "execution_count": 16,
            "metadata": {},
            "outputs": [],
            "source": [
                "# Preprocessing\n",
                "img_size = 50\n",
                "dogs_images = []\n",
                "wolves_images = [] \n",
                "\n",
                "for i in dogs:\n",
                "    if os.path.isfile(os.path.join(\"data\", \"dogs\", f\"{i}\")):\n",
                "        img = Image.open(os.path.join(\"data\", \"dogs\", f\"{i}\")).convert('L')            \n",
                "        img = img.resize((img_size,img_size), Image.ANTIALIAS)\n",
                "        img = np.asarray(img)/255.0\n",
                "        dogs_images.append(img)    \n",
                "\n",
                "for i in wolves:\n",
                "    if os.path.isfile(os.path.join(\"data\", \"wolves\", f\"{i}\")):\n",
                "        img = Image.open(os.path.join(\"data\", \"wolves\", f\"{i}\")).convert('L')\n",
                "        img = img.resize((img_size,img_size), Image.ANTIALIAS)\n",
                "        img = np.asarray(img)/255.0     \n",
                "        wolves_images.append(img)   "
            ]
        },
        {
            "cell_type": "code",
            "execution_count": 17,
            "metadata": {},
            "outputs": [],
            "source": [
                "# Manual train-test split (to track filenames)\n",
                "X_train = np.asarray(dogs_images[0:800] + wolves_images[0:800])\n",
                "X_train = X_train.reshape(X_train.shape[0], X_train.shape[1]*X_train.shape[2])\n",
                "X_test = np.asarray(dogs_images[800:1000] + wolves_images[800:1000])\n",
                "X_test = X_test.reshape(X_test.shape[0], X_test.shape[1]*X_test.shape[2])\n",
                "y_train = np.asarray([\"dog\" for y in range(800)] + [\"wolf\" for y in range(800)])\n",
                "y_train = y_train.reshape(y_train.shape[0],1)\n",
                "y_test_ar = np.asarray([\"dog\" for y in range(200)] + [\"wolf\" for y in range(200)])\n",
                "y_test = y_test_ar.reshape(y_test_ar.shape[0],1)\n",
                "\n",
                "y_train, y_test = [k.T for k in [y_train, y_test]]\n",
                "filenames_test = [os.path.join( \"data\", \"dogs\", d) for d in dogs[800:1000]] + [os.path.join( \"data\", \"wolves\", w) for w in wolves[800:1000]]"
            ]
        },
        {
            "cell_type": "code",
            "execution_count": 18,
            "metadata": {},
            "outputs": [],
            "source": [
                "# Train model\n",
                "model = lm.LogisticRegression(penalty='none', tol=0.1, max_iter=500).fit(X_train, y_train[0])"
            ]
        },
        {
            "cell_type": "code",
            "execution_count": 19,
            "metadata": {},
            "outputs": [],
            "source": [
                "y_pred = model.predict(X_test)\n",
                "dog_wolf = div.Evaluate((X_test, y_test[0], y_pred, filenames_test), model)"
            ]
        },
        {
            "cell_type": "code",
            "execution_count": 20,
            "metadata": {},
            "outputs": [],
            "source": [
                "#dog_wolf.explore_embeddings()"
            ]
        },
        {
            "cell_type": "code",
            "execution_count": 21,
            "metadata": {},
            "outputs": [
                {
                    "name": "stderr",
                    "output_type": "stream",
                    "text": [
                        "2022-06-07 21:36:33.622 INFO    numexpr.utils: NumExpr defaulting to 8 threads.\n"
                    ]
                },
                {
                    "name": "stdout",
                    "output_type": "stream",
                    "text": [
                        "\n",
                        "  You can now view your Streamlit app in your browser.\n",
                        "\n",
                        "  Local URL: http://localhost:8505\n",
                        "  Network URL: http://192.168.8.150:8505\n",
                        "\n",
                        "  For better performance, install the Watchdog module:\n",
                        "\n",
                        "  $ xcode-select --install\n",
                        "  $ pip install watchdog\n",
                        "            \n"
                    ]
                },
                {
                    "name": "stderr",
                    "output_type": "stream",
                    "text": [
                        "2022-06-07 21:36:40.537 Uncaught app exception\n",
                        "Traceback (most recent call last):\n",
                        "  File \"/Users/jakobgrohn/opt/anaconda3/envs/divalgo/lib/python3.9/site-packages/streamlit/scriptrunner/script_runner.py\", line 554, in _run_script\n",
                        "    exec(code, module.__dict__)\n",
                        "  File \"divalgo/🚪frontpage.py\", line 3, in <module>\n",
                        "    import divalgo_class as div\n",
                        "  File \"/Users/jakobgrohn/Desktop/Cognitive_Science/Cognitive Science 8th Semester/Human Computer Interaction/Exam/hci-divalgo/divalgo/divalgo_class.py\", line 13, in <module>\n",
                        "    from divalgo.utils import get_embeddings, prob_barplot, np_image_to_base64, get_embedding_df\n",
                        "ModuleNotFoundError: No module named 'divalgo'\n"
                    ]
                }
            ],
            "source": [
                "dog_wolf.open_visualization()"
            ]
        },
        {
            "cell_type": "markdown",
            "metadata": {},
            "source": [
                "Training: \n",
                "\n",
                "Train - epoch - loss over time, learning curves (Frida)\n",
                "\n",
                "Coefficient heatmap (Jakob)\n",
                "\n",
                "Visualize images (correct/wrong predictions) - Stine "
            ]
        }
    ],
    "metadata": {
        "interpreter": {
            "hash": "269d033a209fc105c9572235dc8053e2d4a5c18996fc0e3f9de314817a067d1a"
        },
        "kernelspec": {
            "display_name": "Python 3.9.13 ('divalgo')",
            "language": "python",
            "name": "python3"
        },
        "language_info": {
            "codemirror_mode": {
                "name": "ipython",
                "version": 3
            },
            "file_extension": ".py",
            "mimetype": "text/x-python",
            "name": "python",
            "nbconvert_exporter": "python",
            "pygments_lexer": "ipython3",
            "version": "3.9.13"
        },
        "orig_nbformat": 4
    },
    "nbformat": 4,
    "nbformat_minor": 2
}
