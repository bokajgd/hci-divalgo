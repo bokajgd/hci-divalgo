{
    "cells": [
        {
            "cell_type": "markdown",
            "metadata": {},
            "source": [
                "# DIVALGO demonstration"
            ]
        },
        {
            "cell_type": "markdown",
            "metadata": {},
            "source": [
                "This notebook contains a demostration of the DIVALGO tool"
            ]
        },
        {
            "cell_type": "code",
            "execution_count": 1,
            "metadata": {},
            "outputs": [
                {
                    "name": "stderr",
                    "output_type": "stream",
                    "text": [
                        "2022-06-08 00:13:27.409 INFO    numexpr.utils: NumExpr defaulting to 8 threads.\n"
                    ]
                }
            ],
            "source": [
                "import streamlit as st\n",
                "import importlib\n",
                "import divalgo_class\n",
                "importlib.reload(divalgo_class)\n",
                "import divalgo_class as div\n",
                "import os\n",
                "import sklearn.linear_model as lm\n",
                "import numpy as np\n",
                "from PIL import Image\n",
                "from sklearn import metrics"
            ]
        },
        {
            "cell_type": "markdown",
            "metadata": {},
            "source": [
                "## Actual data - dogs and wolfs"
            ]
        },
        {
            "cell_type": "code",
            "execution_count": 2,
            "metadata": {},
            "outputs": [],
            "source": [
                "# Load data\n",
                "dogs = sorted(os.listdir(os.path.join(\"..\", \"data\", \"dogs\")))\n",
                "wolves =  sorted(os.listdir(os.path.join(\"..\", \"data\", \"wolves\")))\n"
            ]
        },
        {
            "cell_type": "code",
            "execution_count": 3,
            "metadata": {},
            "outputs": [],
            "source": [
                "# Preprocessing\n",
                "img_size = 50\n",
                "dogs_images = []\n",
                "wolves_images = [] \n",
                "\n",
                "for i in dogs:\n",
                "    if os.path.isfile(os.path.join(\"..\",\"data\", \"dogs\", f\"{i}\")):\n",
                "        img = Image.open(os.path.join(\"..\",\"data\", \"dogs\", f\"{i}\")).convert('L')            \n",
                "        img = img.resize((img_size,img_size), Image.ANTIALIAS)\n",
                "        img = np.asarray(img)/255.0\n",
                "        dogs_images.append(img)    \n",
                "\n",
                "for i in wolves:\n",
                "    if os.path.isfile(os.path.join(\"..\",\"data\", \"wolves\", f\"{i}\")):\n",
                "        img = Image.open(os.path.join(\"..\",\"data\", \"wolves\", f\"{i}\")).convert('L')\n",
                "        img = img.resize((img_size,img_size), Image.ANTIALIAS)\n",
                "        img = np.asarray(img)/255.0     \n",
                "        wolves_images.append(img)   "
            ]
        },
        {
            "cell_type": "code",
            "execution_count": 4,
            "metadata": {},
            "outputs": [],
            "source": [
                "# # Manual train-test split (to track filenames)\n",
                "# X_train = np.asarray(dogs_images[0:800] + wolves_images[0:800])\n",
                "# X_train = X_train.reshape(X_train.shape[0], X_train.shape[1]*X_train.shape[2])\n",
                "# X_test = np.asarray(dogs_images[800:1000] + wolves_images[800:1000])\n",
                "# X_test = X_test.reshape(X_test.shape[0], X_test.shape[1]*X_test.shape[2])\n",
                "# y_train = np.asarray([\"dog\" for y in range(800)] + [\"wolf\" for y in range(800)])\n",
                "# y_train = y_train.reshape(y_train.shape[0],1)\n",
                "# y_test_ar = np.asarray([\"dog\" for y in range(200)] + [\"wolf\" for y in range(200)])\n",
                "# y_test = y_test_ar.reshape(y_test_ar.shape[0],1)\n",
                "\n",
                "# y_train, y_test = [k.T for k in [y_train, y_test]]\n",
                "# filenames_test = [os.path.join(\"..\", \"data\", \"dogs\", d) for d in dogs[800:1000]] + [os.path.join(\"..\", \"data\", \"wolves\", w) for w in wolves[800:1000]]"
            ]
        },
        {
            "cell_type": "code",
            "execution_count": 5,
            "metadata": {},
            "outputs": [],
            "source": [
                "# Manual train-test split (to track filenames)\n",
                "X_train = np.asarray(dogs_images[0:100] + wolves_images[0:100])\n",
                "X_train = X_train.reshape(X_train.shape[0], X_train.shape[1]*X_train.shape[2])\n",
                "X_test = np.asarray(dogs_images[800:850] + wolves_images[800:850])\n",
                "X_test = X_test.reshape(X_test.shape[0], X_test.shape[1]*X_test.shape[2])\n",
                "y_train = np.asarray([\"dog\" for y in range(100)] + [\"wolf\" for y in range(100)])\n",
                "y_train = y_train.reshape(y_train.shape[0],1)\n",
                "y_test_ar = np.asarray([\"dog\" for y in range(50)] + [\"wolf\" for y in range(50)])\n",
                "y_test = y_test_ar.reshape(y_test_ar.shape[0],1)\n",
                "\n",
                "y_train, y_test = [k.T for k in [y_train, y_test]]\n",
                "filenames_test = [os.path.join(\"..\", \"data\", \"dogs\", d) for d in dogs[800:850]] + [os.path.join(\"..\", \"data\", \"wolves\", w) for w in wolves[800:850]]"
            ]
        },
        {
            "cell_type": "code",
            "execution_count": 6,
            "metadata": {},
            "outputs": [],
            "source": [
                "# Train model\n",
                "model = lm.LogisticRegression(penalty='none', tol=0.1, max_iter=500).fit(X_train, y_train[0])"
            ]
        },
        {
            "cell_type": "code",
            "execution_count": 7,
            "metadata": {},
            "outputs": [
                {
                    "ename": "ValueError",
                    "evalue": "Length of values (100) does not match length of index (110)",
                    "output_type": "error",
                    "traceback": [
                        "\u001b[0;31m---------------------------------------------------------------------------\u001b[0m",
                        "\u001b[0;31mValueError\u001b[0m                                Traceback (most recent call last)",
                        "\u001b[1;32m/Users/jakobgrohn/Desktop/Cognitive_Science/Cognitive Science 8th Semester/Human Computer Interaction/Exam/hci-divalgo/divalgo/demo.ipynb Cell 10'\u001b[0m in \u001b[0;36m<cell line: 2>\u001b[0;34m()\u001b[0m\n\u001b[1;32m      <a href='vscode-notebook-cell:/Users/jakobgrohn/Desktop/Cognitive_Science/Cognitive%20Science%208th%20Semester/Human%20Computer%20Interaction/Exam/hci-divalgo/divalgo/demo.ipynb#ch0000008?line=0'>1</a>\u001b[0m y_pred \u001b[39m=\u001b[39m model\u001b[39m.\u001b[39mpredict(X_test)\n\u001b[0;32m----> <a href='vscode-notebook-cell:/Users/jakobgrohn/Desktop/Cognitive_Science/Cognitive%20Science%208th%20Semester/Human%20Computer%20Interaction/Exam/hci-divalgo/divalgo/demo.ipynb#ch0000008?line=1'>2</a>\u001b[0m dog_wolf \u001b[39m=\u001b[39m div\u001b[39m.\u001b[39;49mEvaluate((X_test, y_test[\u001b[39m0\u001b[39;49m], y_pred, filenames_test), model)\n",
                        "File \u001b[0;32m~/Desktop/Cognitive_Science/Cognitive Science 8th Semester/Human Computer Interaction/Exam/hci-divalgo/divalgo/divalgo_class.py:164\u001b[0m, in \u001b[0;36mEvaluate.__init__\u001b[0;34m(self, feed, model)\u001b[0m\n\u001b[1;32m    <a href='file:///Users/jakobgrohn/Desktop/Cognitive_Science/Cognitive%20Science%208th%20Semester/Human%20Computer%20Interaction/Exam/hci-divalgo/divalgo/divalgo_class.py?line=160'>161</a>\u001b[0m \u001b[39mself\u001b[39m\u001b[39m.\u001b[39mcolors \u001b[39m=\u001b[39m [\u001b[39m\"\u001b[39m\u001b[39m#99B898\u001b[39m\u001b[39m\"\u001b[39m, \u001b[39m\"\u001b[39m\u001b[39m#42823C\u001b[39m\u001b[39m\"\u001b[39m, \u001b[39m\"\u001b[39m\u001b[39m#FF847C\u001b[39m\u001b[39m\"\u001b[39m, \u001b[39m\"\u001b[39m\u001b[39m#E84A5F\u001b[39m\u001b[39m\"\u001b[39m, \u001b[39m\"\u001b[39m\u001b[39m#2A363B\u001b[39m\u001b[39m\"\u001b[39m]\n\u001b[1;32m    <a href='file:///Users/jakobgrohn/Desktop/Cognitive_Science/Cognitive%20Science%208th%20Semester/Human%20Computer%20Interaction/Exam/hci-divalgo/divalgo/divalgo_class.py?line=162'>163</a>\u001b[0m \u001b[39mself\u001b[39m\u001b[39m.\u001b[39mdf \u001b[39m=\u001b[39m pd\u001b[39m.\u001b[39mDataFrame(\u001b[39mself\u001b[39m\u001b[39m.\u001b[39mX_test)\n\u001b[0;32m--> <a href='file:///Users/jakobgrohn/Desktop/Cognitive_Science/Cognitive%20Science%208th%20Semester/Human%20Computer%20Interaction/Exam/hci-divalgo/divalgo/divalgo_class.py?line=163'>164</a>\u001b[0m \u001b[39mself\u001b[39m\u001b[39m.\u001b[39mdf[\u001b[39m\"\u001b[39m\u001b[39my_test\u001b[39m\u001b[39m\"\u001b[39m] \u001b[39m=\u001b[39m \u001b[39mself\u001b[39m\u001b[39m.\u001b[39my_test\n\u001b[1;32m    <a href='file:///Users/jakobgrohn/Desktop/Cognitive_Science/Cognitive%20Science%208th%20Semester/Human%20Computer%20Interaction/Exam/hci-divalgo/divalgo/divalgo_class.py?line=164'>165</a>\u001b[0m \u001b[39mself\u001b[39m\u001b[39m.\u001b[39mdf[\u001b[39m\"\u001b[39m\u001b[39my_pred\u001b[39m\u001b[39m\"\u001b[39m] \u001b[39m=\u001b[39m \u001b[39mself\u001b[39m\u001b[39m.\u001b[39my_pred\n\u001b[1;32m    <a href='file:///Users/jakobgrohn/Desktop/Cognitive_Science/Cognitive%20Science%208th%20Semester/Human%20Computer%20Interaction/Exam/hci-divalgo/divalgo/divalgo_class.py?line=165'>166</a>\u001b[0m \u001b[39mself\u001b[39m\u001b[39m.\u001b[39mdf[\u001b[39m\"\u001b[39m\u001b[39mfilename\u001b[39m\u001b[39m\"\u001b[39m] \u001b[39m=\u001b[39m \u001b[39mself\u001b[39m\u001b[39m.\u001b[39mfilenames\n",
                        "File \u001b[0;32m~/opt/anaconda3/envs/divalgo/lib/python3.9/site-packages/pandas/core/frame.py:3655\u001b[0m, in \u001b[0;36mDataFrame.__setitem__\u001b[0;34m(self, key, value)\u001b[0m\n\u001b[1;32m   <a href='file:///Users/jakobgrohn/opt/anaconda3/envs/divalgo/lib/python3.9/site-packages/pandas/core/frame.py?line=3651'>3652</a>\u001b[0m     \u001b[39mself\u001b[39m\u001b[39m.\u001b[39m_setitem_array([key], value)\n\u001b[1;32m   <a href='file:///Users/jakobgrohn/opt/anaconda3/envs/divalgo/lib/python3.9/site-packages/pandas/core/frame.py?line=3652'>3653</a>\u001b[0m \u001b[39melse\u001b[39;00m:\n\u001b[1;32m   <a href='file:///Users/jakobgrohn/opt/anaconda3/envs/divalgo/lib/python3.9/site-packages/pandas/core/frame.py?line=3653'>3654</a>\u001b[0m     \u001b[39m# set column\u001b[39;00m\n\u001b[0;32m-> <a href='file:///Users/jakobgrohn/opt/anaconda3/envs/divalgo/lib/python3.9/site-packages/pandas/core/frame.py?line=3654'>3655</a>\u001b[0m     \u001b[39mself\u001b[39;49m\u001b[39m.\u001b[39;49m_set_item(key, value)\n",
                        "File \u001b[0;32m~/opt/anaconda3/envs/divalgo/lib/python3.9/site-packages/pandas/core/frame.py:3832\u001b[0m, in \u001b[0;36mDataFrame._set_item\u001b[0;34m(self, key, value)\u001b[0m\n\u001b[1;32m   <a href='file:///Users/jakobgrohn/opt/anaconda3/envs/divalgo/lib/python3.9/site-packages/pandas/core/frame.py?line=3821'>3822</a>\u001b[0m \u001b[39mdef\u001b[39;00m \u001b[39m_set_item\u001b[39m(\u001b[39mself\u001b[39m, key, value) \u001b[39m-\u001b[39m\u001b[39m>\u001b[39m \u001b[39mNone\u001b[39;00m:\n\u001b[1;32m   <a href='file:///Users/jakobgrohn/opt/anaconda3/envs/divalgo/lib/python3.9/site-packages/pandas/core/frame.py?line=3822'>3823</a>\u001b[0m     \u001b[39m\"\"\"\u001b[39;00m\n\u001b[1;32m   <a href='file:///Users/jakobgrohn/opt/anaconda3/envs/divalgo/lib/python3.9/site-packages/pandas/core/frame.py?line=3823'>3824</a>\u001b[0m \u001b[39m    Add series to DataFrame in specified column.\u001b[39;00m\n\u001b[1;32m   <a href='file:///Users/jakobgrohn/opt/anaconda3/envs/divalgo/lib/python3.9/site-packages/pandas/core/frame.py?line=3824'>3825</a>\u001b[0m \n\u001b[0;32m   (...)\u001b[0m\n\u001b[1;32m   <a href='file:///Users/jakobgrohn/opt/anaconda3/envs/divalgo/lib/python3.9/site-packages/pandas/core/frame.py?line=3829'>3830</a>\u001b[0m \u001b[39m    ensure homogeneity.\u001b[39;00m\n\u001b[1;32m   <a href='file:///Users/jakobgrohn/opt/anaconda3/envs/divalgo/lib/python3.9/site-packages/pandas/core/frame.py?line=3830'>3831</a>\u001b[0m \u001b[39m    \"\"\"\u001b[39;00m\n\u001b[0;32m-> <a href='file:///Users/jakobgrohn/opt/anaconda3/envs/divalgo/lib/python3.9/site-packages/pandas/core/frame.py?line=3831'>3832</a>\u001b[0m     value \u001b[39m=\u001b[39m \u001b[39mself\u001b[39;49m\u001b[39m.\u001b[39;49m_sanitize_column(value)\n\u001b[1;32m   <a href='file:///Users/jakobgrohn/opt/anaconda3/envs/divalgo/lib/python3.9/site-packages/pandas/core/frame.py?line=3833'>3834</a>\u001b[0m     \u001b[39mif\u001b[39;00m (\n\u001b[1;32m   <a href='file:///Users/jakobgrohn/opt/anaconda3/envs/divalgo/lib/python3.9/site-packages/pandas/core/frame.py?line=3834'>3835</a>\u001b[0m         key \u001b[39min\u001b[39;00m \u001b[39mself\u001b[39m\u001b[39m.\u001b[39mcolumns\n\u001b[1;32m   <a href='file:///Users/jakobgrohn/opt/anaconda3/envs/divalgo/lib/python3.9/site-packages/pandas/core/frame.py?line=3835'>3836</a>\u001b[0m         \u001b[39mand\u001b[39;00m value\u001b[39m.\u001b[39mndim \u001b[39m==\u001b[39m \u001b[39m1\u001b[39m\n\u001b[1;32m   <a href='file:///Users/jakobgrohn/opt/anaconda3/envs/divalgo/lib/python3.9/site-packages/pandas/core/frame.py?line=3836'>3837</a>\u001b[0m         \u001b[39mand\u001b[39;00m \u001b[39mnot\u001b[39;00m is_extension_array_dtype(value)\n\u001b[1;32m   <a href='file:///Users/jakobgrohn/opt/anaconda3/envs/divalgo/lib/python3.9/site-packages/pandas/core/frame.py?line=3837'>3838</a>\u001b[0m     ):\n\u001b[1;32m   <a href='file:///Users/jakobgrohn/opt/anaconda3/envs/divalgo/lib/python3.9/site-packages/pandas/core/frame.py?line=3838'>3839</a>\u001b[0m         \u001b[39m# broadcast across multiple columns if necessary\u001b[39;00m\n\u001b[1;32m   <a href='file:///Users/jakobgrohn/opt/anaconda3/envs/divalgo/lib/python3.9/site-packages/pandas/core/frame.py?line=3839'>3840</a>\u001b[0m         \u001b[39mif\u001b[39;00m \u001b[39mnot\u001b[39;00m \u001b[39mself\u001b[39m\u001b[39m.\u001b[39mcolumns\u001b[39m.\u001b[39mis_unique \u001b[39mor\u001b[39;00m \u001b[39misinstance\u001b[39m(\u001b[39mself\u001b[39m\u001b[39m.\u001b[39mcolumns, MultiIndex):\n",
                        "File \u001b[0;32m~/opt/anaconda3/envs/divalgo/lib/python3.9/site-packages/pandas/core/frame.py:4535\u001b[0m, in \u001b[0;36mDataFrame._sanitize_column\u001b[0;34m(self, value)\u001b[0m\n\u001b[1;32m   <a href='file:///Users/jakobgrohn/opt/anaconda3/envs/divalgo/lib/python3.9/site-packages/pandas/core/frame.py?line=4531'>4532</a>\u001b[0m     \u001b[39mreturn\u001b[39;00m _reindex_for_setitem(value, \u001b[39mself\u001b[39m\u001b[39m.\u001b[39mindex)\n\u001b[1;32m   <a href='file:///Users/jakobgrohn/opt/anaconda3/envs/divalgo/lib/python3.9/site-packages/pandas/core/frame.py?line=4533'>4534</a>\u001b[0m \u001b[39mif\u001b[39;00m is_list_like(value):\n\u001b[0;32m-> <a href='file:///Users/jakobgrohn/opt/anaconda3/envs/divalgo/lib/python3.9/site-packages/pandas/core/frame.py?line=4534'>4535</a>\u001b[0m     com\u001b[39m.\u001b[39;49mrequire_length_match(value, \u001b[39mself\u001b[39;49m\u001b[39m.\u001b[39;49mindex)\n\u001b[1;32m   <a href='file:///Users/jakobgrohn/opt/anaconda3/envs/divalgo/lib/python3.9/site-packages/pandas/core/frame.py?line=4535'>4536</a>\u001b[0m \u001b[39mreturn\u001b[39;00m sanitize_array(value, \u001b[39mself\u001b[39m\u001b[39m.\u001b[39mindex, copy\u001b[39m=\u001b[39m\u001b[39mTrue\u001b[39;00m, allow_2d\u001b[39m=\u001b[39m\u001b[39mTrue\u001b[39;00m)\n",
                        "File \u001b[0;32m~/opt/anaconda3/envs/divalgo/lib/python3.9/site-packages/pandas/core/common.py:557\u001b[0m, in \u001b[0;36mrequire_length_match\u001b[0;34m(data, index)\u001b[0m\n\u001b[1;32m    <a href='file:///Users/jakobgrohn/opt/anaconda3/envs/divalgo/lib/python3.9/site-packages/pandas/core/common.py?line=552'>553</a>\u001b[0m \u001b[39m\"\"\"\u001b[39;00m\n\u001b[1;32m    <a href='file:///Users/jakobgrohn/opt/anaconda3/envs/divalgo/lib/python3.9/site-packages/pandas/core/common.py?line=553'>554</a>\u001b[0m \u001b[39mCheck the length of data matches the length of the index.\u001b[39;00m\n\u001b[1;32m    <a href='file:///Users/jakobgrohn/opt/anaconda3/envs/divalgo/lib/python3.9/site-packages/pandas/core/common.py?line=554'>555</a>\u001b[0m \u001b[39m\"\"\"\u001b[39;00m\n\u001b[1;32m    <a href='file:///Users/jakobgrohn/opt/anaconda3/envs/divalgo/lib/python3.9/site-packages/pandas/core/common.py?line=555'>556</a>\u001b[0m \u001b[39mif\u001b[39;00m \u001b[39mlen\u001b[39m(data) \u001b[39m!=\u001b[39m \u001b[39mlen\u001b[39m(index):\n\u001b[0;32m--> <a href='file:///Users/jakobgrohn/opt/anaconda3/envs/divalgo/lib/python3.9/site-packages/pandas/core/common.py?line=556'>557</a>\u001b[0m     \u001b[39mraise\u001b[39;00m \u001b[39mValueError\u001b[39;00m(\n\u001b[1;32m    <a href='file:///Users/jakobgrohn/opt/anaconda3/envs/divalgo/lib/python3.9/site-packages/pandas/core/common.py?line=557'>558</a>\u001b[0m         \u001b[39m\"\u001b[39m\u001b[39mLength of values \u001b[39m\u001b[39m\"\u001b[39m\n\u001b[1;32m    <a href='file:///Users/jakobgrohn/opt/anaconda3/envs/divalgo/lib/python3.9/site-packages/pandas/core/common.py?line=558'>559</a>\u001b[0m         \u001b[39mf\u001b[39m\u001b[39m\"\u001b[39m\u001b[39m(\u001b[39m\u001b[39m{\u001b[39;00m\u001b[39mlen\u001b[39m(data)\u001b[39m}\u001b[39;00m\u001b[39m) \u001b[39m\u001b[39m\"\u001b[39m\n\u001b[1;32m    <a href='file:///Users/jakobgrohn/opt/anaconda3/envs/divalgo/lib/python3.9/site-packages/pandas/core/common.py?line=559'>560</a>\u001b[0m         \u001b[39m\"\u001b[39m\u001b[39mdoes not match length of index \u001b[39m\u001b[39m\"\u001b[39m\n\u001b[1;32m    <a href='file:///Users/jakobgrohn/opt/anaconda3/envs/divalgo/lib/python3.9/site-packages/pandas/core/common.py?line=560'>561</a>\u001b[0m         \u001b[39mf\u001b[39m\u001b[39m\"\u001b[39m\u001b[39m(\u001b[39m\u001b[39m{\u001b[39;00m\u001b[39mlen\u001b[39m(index)\u001b[39m}\u001b[39;00m\u001b[39m)\u001b[39m\u001b[39m\"\u001b[39m\n\u001b[1;32m    <a href='file:///Users/jakobgrohn/opt/anaconda3/envs/divalgo/lib/python3.9/site-packages/pandas/core/common.py?line=561'>562</a>\u001b[0m     )\n",
                        "\u001b[0;31mValueError\u001b[0m: Length of values (100) does not match length of index (110)"
                    ]
                }
            ],
            "source": [
                "y_pred = model.predict(X_test)\n",
                "dog_wolf = div.Evaluate((X_test, y_test[0], y_pred, filenames_test), model)"
            ]
        },
        {
            "cell_type": "code",
            "execution_count": null,
            "metadata": {},
            "outputs": [],
            "source": [
                "#dog_wolf.explore_embeddings()"
            ]
        },
        {
            "cell_type": "code",
            "execution_count": null,
            "metadata": {},
            "outputs": [
                {
                    "name": "stderr",
                    "output_type": "stream",
                    "text": [
                        "2022-06-07 23:59:24.376 INFO    numexpr.utils: NumExpr defaulting to 8 threads.\n"
                    ]
                },
                {
                    "name": "stdout",
                    "output_type": "stream",
                    "text": [
                        "\n",
                        "  You can now view your Streamlit app in your browser.\n",
                        "\n",
                        "  Local URL: http://localhost:8513\n",
                        "  Network URL: http://192.168.8.150:8513\n",
                        "\n",
                        "  For better performance, install the Watchdog module:\n",
                        "\n",
                        "  $ xcode-select --install\n",
                        "  $ pip install watchdog\n",
                        "            \n"
                    ]
                }
            ],
            "source": [
                "dog_wolf.open_visualization()"
            ]
        },
        {
            "cell_type": "markdown",
            "metadata": {},
            "source": [
                "Training: \n",
                "\n",
                "Train - epoch - loss over time, learning curves (Frida)\n",
                "\n",
                "Coefficient heatmap (Jakob)\n",
                "\n",
                "Visualize images (correct/wrong predictions) - Stine "
            ]
        }
    ],
    "metadata": {
        "interpreter": {
            "hash": "269d033a209fc105c9572235dc8053e2d4a5c18996fc0e3f9de314817a067d1a"
        },
        "kernelspec": {
            "display_name": "Python 3.9.13 ('divalgo')",
            "language": "python",
            "name": "python3"
        },
        "language_info": {
            "codemirror_mode": {
                "name": "ipython",
                "version": 3
            },
            "file_extension": ".py",
            "mimetype": "text/x-python",
            "name": "python",
            "nbconvert_exporter": "python",
            "pygments_lexer": "ipython3",
            "version": "3.9.13"
        },
        "orig_nbformat": 4
    },
    "nbformat": 4,
    "nbformat_minor": 2
}
